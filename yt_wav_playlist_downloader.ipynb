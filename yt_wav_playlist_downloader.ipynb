{
 "cells": [
  {
   "cell_type": "code",
   "execution_count": null,
   "metadata": {},
   "outputs": [
    {
     "name": "stdout",
     "output_type": "stream",
     "text": [
      "🎯 Selected: Hurricane - I'm On To You (HD)\n",
      "🎼 Converting and normalizing: Hurricane I am on To you  \n",
      "📏 Original LUFS: -16.01\n",
      "✅ LUFS-normalized WAV saved: procuced_wav_files\\Hurricane I am on To you.wav\n",
      "⚠️ Metadata tagging failed: 'Hurricane I am on To you' not a Frame instance\n",
      "🔍 Searching for best HQ/HD match: Saraya In the shade of the Sun\n"
     ]
    },
    {
     "name": "stderr",
     "output_type": "stream",
     "text": [
      "c:\\Users\\PX\\anaconda3\\envs\\yt_autotune\\lib\\site-packages\\pyloudnorm\\normalize.py:62: UserWarning: Possible clipped samples in output.\n",
      "  warnings.warn(\"Possible clipped samples in output.\")\n"
     ]
    },
    {
     "name": "stdout",
     "output_type": "stream",
     "text": [
      "🎯 Selected: SARAYA - In the Shade of the Sun (1991)\n",
      "🎼 Converting and normalizing: Saraya In the shade of the Sun\n",
      "📏 Original LUFS: -16.97\n"
     ]
    },
    {
     "name": "stderr",
     "output_type": "stream",
     "text": [
      "c:\\Users\\PX\\anaconda3\\envs\\yt_autotune\\lib\\site-packages\\pyloudnorm\\normalize.py:62: UserWarning: Possible clipped samples in output.\n",
      "  warnings.warn(\"Possible clipped samples in output.\")\n"
     ]
    },
    {
     "name": "stdout",
     "output_type": "stream",
     "text": [
      "✅ LUFS-normalized WAV saved: procuced_wav_files\\Saraya In the shade of the Sun.wav\n",
      "⚠️ Metadata tagging failed: 'Saraya In the shade of the Sun' not a Frame instance\n",
      "🔍 Searching for best HQ/HD match: Blue Murder - Valley Of The Kings\n",
      "🎯 Selected: Blue Murder - Valley Of The Kings (HQ)\n",
      "🎼 Converting and normalizing: Blue Murder - Valley Of The Kings\n",
      "📏 Original LUFS: -19.10\n"
     ]
    },
    {
     "name": "stderr",
     "output_type": "stream",
     "text": [
      "c:\\Users\\PX\\anaconda3\\envs\\yt_autotune\\lib\\site-packages\\pyloudnorm\\normalize.py:62: UserWarning: Possible clipped samples in output.\n",
      "  warnings.warn(\"Possible clipped samples in output.\")\n"
     ]
    },
    {
     "name": "stdout",
     "output_type": "stream",
     "text": [
      "✅ LUFS-normalized WAV saved: procuced_wav_files\\Blue Murder - Valley Of The Kings.wav\n",
      "⚠️ Metadata tagging failed: 'Valley Of The Kings' not a Frame instance\n",
      "🔍 Searching for best HQ/HD match: White Lion Hungry\n"
     ]
    }
   ],
   "source": [
    "import os\n",
    "import yt_dlp\n",
    "import numpy as np\n",
    "import soundfile as sf\n",
    "import pyloudnorm as pyln\n",
    "from openpyxl import load_workbook\n",
    "from pydub import AudioSegment\n",
    "from mutagen.wave import WAVE\n",
    "\n",
    "# === CONFIG ===\n",
    "EXPORT_FOLDER = \"procuced_wav_files\"\n",
    "TARGET_LUFS = -14.0\n",
    "os.makedirs(EXPORT_FOLDER, exist_ok=True)\n",
    "\n",
    "# Load song titles\n",
    "def load_song_titles(xlsx_path):\n",
    "    wb = load_workbook(xlsx_path)\n",
    "    ws = wb.active\n",
    "    return [row[0].value for row in ws.iter_rows(min_row=2) if row[0].value]\n",
    "\n",
    "# Download highest quality audio\n",
    "def download_best_audio(song_title):\n",
    "    search_query = f\"ytsearch10:{song_title}\"\n",
    "    print(f\"🔍 Searching for best HQ match: {song_title}\")\n",
    "\n",
    "    try:\n",
    "        with yt_dlp.YoutubeDL({'quiet': True}) as ydl:\n",
    "            search_results = ydl.extract_info(search_query, download=False)[\"entries\"]\n",
    "    except Exception as e:\n",
    "        print(f\"❌ Search failed: {e}\")\n",
    "        return\n",
    "\n",
    "    # Filter for 'HQ' or 'HD' in the title\n",
    "    filtered = [entry for entry in search_results if entry and entry.get(\"title\") and (\"hq\" in entry[\"title\"].lower())]\n",
    "\n",
    "    best_entry = filtered[0] if filtered else search_results[0]\n",
    "    if not best_entry:\n",
    "        print(f\"❌ No video found for: {song_title}\")\n",
    "        return\n",
    "\n",
    "    url = best_entry[\"webpage_url\"]\n",
    "    print(f\"🎯 Selected: {best_entry['title']}\")\n",
    "\n",
    "    ydl_opts = {\n",
    "        'format': 'bestaudio/best',\n",
    "        'quiet': True,\n",
    "        'outtmpl': f'{EXPORT_FOLDER}/{song_title}.%(ext)s',\n",
    "    }\n",
    "\n",
    "    try:\n",
    "        with yt_dlp.YoutubeDL(ydl_opts) as ydl:\n",
    "            ydl.download([url])\n",
    "    except Exception as e:\n",
    "        print(f\"❌ Failed to download '{song_title}': {e}\")\n",
    "\n",
    "\n",
    "# Convert to WAV and apply LUFS normalization\n",
    "def convert_to_lufs_wav(song_title):\n",
    "    raw_path = None\n",
    "    for ext in [\"webm\", \"m4a\", \"opus\", \"mp3\"]:\n",
    "        candidate = os.path.join(EXPORT_FOLDER, f\"{song_title}.{ext}\")\n",
    "        if os.path.exists(candidate):\n",
    "            raw_path = candidate\n",
    "            break\n",
    "\n",
    "    if not raw_path:\n",
    "        print(f\"❌ No downloaded audio found for: {song_title}\")\n",
    "        return\n",
    "\n",
    "    print(f\"🎼 Converting and normalizing: {song_title}\")\n",
    "    audio = AudioSegment.from_file(raw_path)\n",
    "    wav_temp_path = os.path.join(EXPORT_FOLDER, f\"{song_title}_temp.wav\")\n",
    "    audio.export(wav_temp_path, format=\"wav\")\n",
    "\n",
    "    # Load raw WAV into numpy\n",
    "    y, sr = sf.read(wav_temp_path)\n",
    "    if len(y.shape) > 1:  # stereo to mono\n",
    "        y = y.mean(axis=1)\n",
    "\n",
    "    # Measure loudness\n",
    "    meter = pyln.Meter(sr)\n",
    "    loudness = meter.integrated_loudness(y)\n",
    "    print(f\"📏 Original LUFS: {loudness:.2f}\")\n",
    "\n",
    "    # Normalize\n",
    "    y_normalized = pyln.normalize.loudness(y, loudness, TARGET_LUFS)\n",
    "\n",
    "    # Export normalized audio\n",
    "    final_wav_path = os.path.join(EXPORT_FOLDER, f\"{song_title}.wav\")\n",
    "    sf.write(final_wav_path, y_normalized, sr)\n",
    "    os.remove(wav_temp_path)\n",
    "    os.remove(raw_path)\n",
    "    print(f\"✅ LUFS-normalized WAV saved: {final_wav_path}\")\n",
    "\n",
    "    # Optional metadata\n",
    "    add_metadata(final_wav_path, song_title)\n",
    "\n",
    "# Add metadata to WAV\n",
    "def add_metadata(filepath, song_title):\n",
    "    artist = \"Unknown Artist\"\n",
    "    if \" - \" in song_title:\n",
    "        artist, song_title = song_title.split(\" - \", 1)\n",
    "\n",
    "    try:\n",
    "        audio = WAVE(filepath)\n",
    "        audio[\"title\"] = song_title\n",
    "        audio[\"artist\"] = artist\n",
    "        audio.save()\n",
    "        print(f\"🏷️ Metadata tagged: {song_title} by {artist}\")\n",
    "    except Exception as e:\n",
    "        print(f\"⚠️ Metadata tagging failed: {e}\")\n",
    "\n",
    "# Main\n",
    "if __name__ == \"__main__\":\n",
    "    titles = load_song_titles(\"songs.xlsx\")\n",
    "    for title in titles:\n",
    "        download_best_audio(title)\n",
    "        convert_to_lufs_wav(title)\n"
   ]
  }
 ],
 "metadata": {
  "kernelspec": {
   "display_name": "yt_autotune",
   "language": "python",
   "name": "python3"
  },
  "language_info": {
   "codemirror_mode": {
    "name": "ipython",
    "version": 3
   },
   "file_extension": ".py",
   "mimetype": "text/x-python",
   "name": "python",
   "nbconvert_exporter": "python",
   "pygments_lexer": "ipython3",
   "version": "3.10.16"
  }
 },
 "nbformat": 4,
 "nbformat_minor": 2
}
