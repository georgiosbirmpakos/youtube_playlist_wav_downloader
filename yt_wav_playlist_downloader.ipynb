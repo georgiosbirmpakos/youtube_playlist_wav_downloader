{
 "cells": [
  {
   "cell_type": "code",
   "execution_count": null,
   "metadata": {},
   "outputs": [
    {
     "name": "stdout",
     "output_type": "stream",
     "text": [
      "🔍 Downloading: Dio Sacred Heart\n",
      "🎼 Converting and normalizing: Dio Sacred Heart          \n",
      "📏 Original LUFS: -12.46\n",
      "✅ LUFS-normalized WAV saved: lufs_audio\\Dio Sacred Heart.wav\n",
      "⚠️ Metadata tagging failed: 'Dio Sacred Heart' not a Frame instance\n",
      "🔍 Downloading: The Tubes She's a Beauty\n",
      "🎼 Converting and normalizing: The Tubes She's a Beauty  \n",
      "📏 Original LUFS: -16.55\n",
      "✅ LUFS-normalized WAV saved: lufs_audio\\The Tubes She's a Beauty.wav\n",
      "⚠️ Metadata tagging failed: \"The Tubes She's a Beauty\" not a Frame instance\n"
     ]
    },
    {
     "name": "stderr",
     "output_type": "stream",
     "text": [
      "c:\\Users\\PX\\anaconda3\\envs\\yt_autotune\\lib\\site-packages\\pyloudnorm\\normalize.py:62: UserWarning: Possible clipped samples in output.\n",
      "  warnings.warn(\"Possible clipped samples in output.\")\n"
     ]
    },
    {
     "name": "stdout",
     "output_type": "stream",
     "text": [
      "🔍 Downloading: Deep Purple The king of Dreams\n",
      "🎼 Converting and normalizing: Deep Purple The king of Dreams\n",
      "📏 Original LUFS: -13.56\n",
      "✅ LUFS-normalized WAV saved: lufs_audio\\Deep Purple The king of Dreams.wav\n",
      "⚠️ Metadata tagging failed: 'Deep Purple The king of Dreams' not a Frame instance\n",
      "🔍 Downloading: Crazy Lixx One Fire One Goal\n",
      "🎼 Converting and normalizing: Crazy Lixx One Fire One Goal\n",
      "📏 Original LUFS: -16.14\n"
     ]
    },
    {
     "name": "stderr",
     "output_type": "stream",
     "text": [
      "c:\\Users\\PX\\anaconda3\\envs\\yt_autotune\\lib\\site-packages\\pyloudnorm\\normalize.py:62: UserWarning: Possible clipped samples in output.\n",
      "  warnings.warn(\"Possible clipped samples in output.\")\n"
     ]
    },
    {
     "name": "stdout",
     "output_type": "stream",
     "text": [
      "✅ LUFS-normalized WAV saved: lufs_audio\\Crazy Lixx One Fire One Goal.wav\n",
      "⚠️ Metadata tagging failed: 'Crazy Lixx One Fire One Goal' not a Frame instance\n",
      "🔍 Downloading: Grave Digger Rebellion \n",
      "🎼 Converting and normalizing: Grave Digger Rebellion    \n",
      "📏 Original LUFS: -21.85\n",
      "✅ LUFS-normalized WAV saved: lufs_audio\\Grave Digger Rebellion .wav\n",
      "⚠️ Metadata tagging failed: 'Grave Digger Rebellion ' not a Frame instance\n",
      "🔍 Downloading: Tyketto Forever Young\n",
      "🎼 Converting and normalizing: Tyketto Forever Young     \n",
      "📏 Original LUFS: -20.71\n"
     ]
    },
    {
     "name": "stderr",
     "output_type": "stream",
     "text": [
      "c:\\Users\\PX\\anaconda3\\envs\\yt_autotune\\lib\\site-packages\\pyloudnorm\\normalize.py:62: UserWarning: Possible clipped samples in output.\n",
      "  warnings.warn(\"Possible clipped samples in output.\")\n"
     ]
    },
    {
     "name": "stdout",
     "output_type": "stream",
     "text": [
      "✅ LUFS-normalized WAV saved: lufs_audio\\Tyketto Forever Young.wav\n",
      "⚠️ Metadata tagging failed: 'Tyketto Forever Young' not a Frame instance\n",
      "🔍 Downloading: Hardline Hot Cherie\n",
      "🎼 Converting and normalizing: Hardline Hot Cherie       \n",
      "📏 Original LUFS: -15.61\n"
     ]
    },
    {
     "name": "stderr",
     "output_type": "stream",
     "text": [
      "c:\\Users\\PX\\anaconda3\\envs\\yt_autotune\\lib\\site-packages\\pyloudnorm\\normalize.py:62: UserWarning: Possible clipped samples in output.\n",
      "  warnings.warn(\"Possible clipped samples in output.\")\n"
     ]
    },
    {
     "name": "stdout",
     "output_type": "stream",
     "text": [
      "✅ LUFS-normalized WAV saved: lufs_audio\\Hardline Hot Cherie.wav\n",
      "⚠️ Metadata tagging failed: 'Hardline Hot Cherie' not a Frame instance\n",
      "🔍 Downloading: Giant Hold Back The Night\n",
      "🎼 Converting and normalizing: Giant Hold Back The Night \n",
      "📏 Original LUFS: -17.84\n",
      "✅ LUFS-normalized WAV saved: lufs_audio\\Giant Hold Back The Night.wav\n",
      "⚠️ Metadata tagging failed: 'Giant Hold Back The Night' not a Frame instance\n"
     ]
    },
    {
     "name": "stderr",
     "output_type": "stream",
     "text": [
      "c:\\Users\\PX\\anaconda3\\envs\\yt_autotune\\lib\\site-packages\\pyloudnorm\\normalize.py:62: UserWarning: Possible clipped samples in output.\n",
      "  warnings.warn(\"Possible clipped samples in output.\")\n"
     ]
    },
    {
     "name": "stdout",
     "output_type": "stream",
     "text": [
      "🔍 Downloading: Hurricane I am on To you\n",
      "🎼 Converting and normalizing: Hurricane I am on To you  \n",
      "📏 Original LUFS: -16.01\n",
      "✅ LUFS-normalized WAV saved: lufs_audio\\Hurricane I am on To you.wav\n",
      "⚠️ Metadata tagging failed: 'Hurricane I am on To you' not a Frame instance\n"
     ]
    },
    {
     "name": "stderr",
     "output_type": "stream",
     "text": [
      "c:\\Users\\PX\\anaconda3\\envs\\yt_autotune\\lib\\site-packages\\pyloudnorm\\normalize.py:62: UserWarning: Possible clipped samples in output.\n",
      "  warnings.warn(\"Possible clipped samples in output.\")\n"
     ]
    },
    {
     "name": "stdout",
     "output_type": "stream",
     "text": [
      "🔍 Downloading: Saraya In the shade of the Sun\n",
      "🎼 Converting and normalizing: Saraya In the shade of the Sun\n",
      "📏 Original LUFS: -16.97\n",
      "✅ LUFS-normalized WAV saved: lufs_audio\\Saraya In the shade of the Sun.wav\n",
      "⚠️ Metadata tagging failed: 'Saraya In the shade of the Sun' not a Frame instance\n"
     ]
    },
    {
     "name": "stderr",
     "output_type": "stream",
     "text": [
      "c:\\Users\\PX\\anaconda3\\envs\\yt_autotune\\lib\\site-packages\\pyloudnorm\\normalize.py:62: UserWarning: Possible clipped samples in output.\n",
      "  warnings.warn(\"Possible clipped samples in output.\")\n"
     ]
    },
    {
     "name": "stdout",
     "output_type": "stream",
     "text": [
      "🔍 Downloading: Blue Murder - Valley Of The Kings\n",
      "🎼 Converting and normalizing: Blue Murder - Valley Of The Kings\n",
      "📏 Original LUFS: -18.84\n"
     ]
    },
    {
     "name": "stderr",
     "output_type": "stream",
     "text": [
      "c:\\Users\\PX\\anaconda3\\envs\\yt_autotune\\lib\\site-packages\\pyloudnorm\\normalize.py:62: UserWarning: Possible clipped samples in output.\n",
      "  warnings.warn(\"Possible clipped samples in output.\")\n"
     ]
    },
    {
     "name": "stdout",
     "output_type": "stream",
     "text": [
      "✅ LUFS-normalized WAV saved: lufs_audio\\Blue Murder - Valley Of The Kings.wav\n",
      "⚠️ Metadata tagging failed: 'Valley Of The Kings' not a Frame instance\n",
      "🔍 Downloading: White Lion Hungry\n",
      "🎼 Converting and normalizing: White Lion Hungry         \n",
      "📏 Original LUFS: -15.85\n",
      "✅ LUFS-normalized WAV saved: lufs_audio\\White Lion Hungry.wav\n"
     ]
    },
    {
     "name": "stderr",
     "output_type": "stream",
     "text": [
      "c:\\Users\\PX\\anaconda3\\envs\\yt_autotune\\lib\\site-packages\\pyloudnorm\\normalize.py:62: UserWarning: Possible clipped samples in output.\n",
      "  warnings.warn(\"Possible clipped samples in output.\")\n"
     ]
    },
    {
     "name": "stdout",
     "output_type": "stream",
     "text": [
      "⚠️ Metadata tagging failed: 'White Lion Hungry' not a Frame instance\n",
      "🔍 Downloading: House Of Lords - I Wanna Be Loved\n",
      "🎼 Converting and normalizing: House Of Lords - I Wanna Be Loved\n",
      "📏 Original LUFS: -12.69\n",
      "✅ LUFS-normalized WAV saved: lufs_audio\\House Of Lords - I Wanna Be Loved.wav\n",
      "⚠️ Metadata tagging failed: 'I Wanna Be Loved' not a Frame instance\n",
      "🔍 Downloading: Ghost - Rats\n",
      "🎼 Converting and normalizing: Ghost - Rats              \n",
      "📏 Original LUFS: -12.45\n",
      "✅ LUFS-normalized WAV saved: lufs_audio\\Ghost - Rats.wav\n",
      "⚠️ Metadata tagging failed: 'Rats' not a Frame instance\n",
      "🔍 Downloading: ghost miasma\n",
      "🎼 Converting and normalizing: ghost miasma              \n",
      "📏 Original LUFS: -12.76\n",
      "✅ LUFS-normalized WAV saved: lufs_audio\\ghost miasma.wav\n",
      "⚠️ Metadata tagging failed: 'ghost miasma' not a Frame instance\n",
      "🔍 Downloading: ghost - dance macabre\n",
      "🎼 Converting and normalizing: ghost - dance macabre     \n",
      "📏 Original LUFS: -7.78\n",
      "✅ LUFS-normalized WAV saved: lufs_audio\\ghost - dance macabre.wav\n",
      "⚠️ Metadata tagging failed: 'dance macabre' not a Frame instance\n",
      "🔍 Downloading: ghost cirice\n",
      "🎼 Converting and normalizing: ghost cirice              \n",
      "📏 Original LUFS: -14.26\n"
     ]
    },
    {
     "name": "stderr",
     "output_type": "stream",
     "text": [
      "c:\\Users\\PX\\anaconda3\\envs\\yt_autotune\\lib\\site-packages\\pyloudnorm\\normalize.py:62: UserWarning: Possible clipped samples in output.\n",
      "  warnings.warn(\"Possible clipped samples in output.\")\n"
     ]
    },
    {
     "name": "stdout",
     "output_type": "stream",
     "text": [
      "✅ LUFS-normalized WAV saved: lufs_audio\\ghost cirice.wav\n",
      "⚠️ Metadata tagging failed: 'ghost cirice' not a Frame instance\n",
      "🔍 Downloading: Queensrÿche - Eyes Of A Stranger\n",
      "🎼 Converting and normalizing: Queensrÿche - Eyes Of A Stranger\n",
      "📏 Original LUFS: -9.86\n",
      "✅ LUFS-normalized WAV saved: lufs_audio\\Queensrÿche - Eyes Of A Stranger.wav\n",
      "⚠️ Metadata tagging failed: 'Eyes Of A Stranger' not a Frame instance\n",
      "🔍 Downloading: Dokken - Dream Warriors \n",
      "🎼 Converting and normalizing: Dokken - Dream Warriors   \n",
      "📏 Original LUFS: -23.29\n",
      "✅ LUFS-normalized WAV saved: lufs_audio\\Dokken - Dream Warriors .wav\n",
      "⚠️ Metadata tagging failed: 'Dream Warriors ' not a Frame instance\n"
     ]
    },
    {
     "name": "stderr",
     "output_type": "stream",
     "text": [
      "c:\\Users\\PX\\anaconda3\\envs\\yt_autotune\\lib\\site-packages\\pyloudnorm\\normalize.py:62: UserWarning: Possible clipped samples in output.\n",
      "  warnings.warn(\"Possible clipped samples in output.\")\n"
     ]
    },
    {
     "name": "stdout",
     "output_type": "stream",
     "text": [
      "🔍 Downloading: black sabbath headless cross\n",
      "🎼 Converting and normalizing: black sabbath headless cross\n",
      "📏 Original LUFS: -11.44\n",
      "✅ LUFS-normalized WAV saved: lufs_audio\\black sabbath headless cross.wav\n",
      "⚠️ Metadata tagging failed: 'black sabbath headless cross' not a Frame instance\n",
      "🔍 Downloading: black sabbath anno mundi\n",
      "🎼 Converting and normalizing: black sabbath anno mundi  \n",
      "📏 Original LUFS: -12.58\n",
      "✅ LUFS-normalized WAV saved: lufs_audio\\black sabbath anno mundi.wav\n",
      "⚠️ Metadata tagging failed: 'black sabbath anno mundi' not a Frame instance\n",
      "🔍 Downloading: Savatage - Hall Of The Mountain King\n",
      "🎼 Converting and normalizing: Savatage - Hall Of The Mountain King\n",
      "📏 Original LUFS: -36.54\n"
     ]
    },
    {
     "name": "stderr",
     "output_type": "stream",
     "text": [
      "c:\\Users\\PX\\anaconda3\\envs\\yt_autotune\\lib\\site-packages\\pyloudnorm\\normalize.py:62: UserWarning: Possible clipped samples in output.\n",
      "  warnings.warn(\"Possible clipped samples in output.\")\n"
     ]
    },
    {
     "name": "stdout",
     "output_type": "stream",
     "text": [
      "✅ LUFS-normalized WAV saved: lufs_audio\\Savatage - Hall Of The Mountain King.wav\n",
      "⚠️ Metadata tagging failed: 'Hall Of The Mountain King' not a Frame instance\n",
      "🔍 Downloading: Lizzy Borden Me Against the World\n",
      "🎼 Converting and normalizing: Lizzy Borden Me Against the World\n",
      "📏 Original LUFS: -16.04\n",
      "✅ LUFS-normalized WAV saved: lufs_audio\\Lizzy Borden Me Against the World.wav\n"
     ]
    },
    {
     "name": "stderr",
     "output_type": "stream",
     "text": [
      "c:\\Users\\PX\\anaconda3\\envs\\yt_autotune\\lib\\site-packages\\pyloudnorm\\normalize.py:62: UserWarning: Possible clipped samples in output.\n",
      "  warnings.warn(\"Possible clipped samples in output.\")\n"
     ]
    },
    {
     "name": "stdout",
     "output_type": "stream",
     "text": [
      "⚠️ Metadata tagging failed: 'Lizzy Borden Me Against the World' not a Frame instance\n",
      "🔍 Downloading: Y&T - Mean Streak\n",
      "🎼 Converting and normalizing: Y&T - Mean Streak         \n",
      "📏 Original LUFS: -11.18\n",
      "✅ LUFS-normalized WAV saved: lufs_audio\\Y&T - Mean Streak.wav\n",
      "⚠️ Metadata tagging failed: 'Mean Streak' not a Frame instance\n",
      "🔍 Downloading: Loudness Crazy Nights\n",
      "🎼 Converting and normalizing: Loudness Crazy Nights     \n",
      "📏 Original LUFS: -13.27\n",
      "✅ LUFS-normalized WAV saved: lufs_audio\\Loudness Crazy Nights.wav\n",
      "⚠️ Metadata tagging failed: 'Loudness Crazy Nights' not a Frame instance\n",
      "🔍 Downloading: Riot Thundersteel\n",
      "🎼 Converting and normalizing: Riot Thundersteel           \n",
      "📏 Original LUFS: -17.20\n",
      "✅ LUFS-normalized WAV saved: lufs_audio\\Riot Thundersteel.wav\n",
      "⚠️ Metadata tagging failed: 'Riot Thundersteel' not a Frame instance\n"
     ]
    },
    {
     "name": "stderr",
     "output_type": "stream",
     "text": [
      "c:\\Users\\PX\\anaconda3\\envs\\yt_autotune\\lib\\site-packages\\pyloudnorm\\normalize.py:62: UserWarning: Possible clipped samples in output.\n",
      "  warnings.warn(\"Possible clipped samples in output.\")\n"
     ]
    },
    {
     "name": "stdout",
     "output_type": "stream",
     "text": [
      "🔍 Downloading: Firehouse All she Wrote\n",
      "🎼 Converting and normalizing: Firehouse All she Wrote   \n",
      "📏 Original LUFS: -17.57\n",
      "✅ LUFS-normalized WAV saved: lufs_audio\\Firehouse All she Wrote.wav\n",
      "⚠️ Metadata tagging failed: 'Firehouse All she Wrote' not a Frame instance\n"
     ]
    },
    {
     "name": "stderr",
     "output_type": "stream",
     "text": [
      "c:\\Users\\PX\\anaconda3\\envs\\yt_autotune\\lib\\site-packages\\pyloudnorm\\normalize.py:62: UserWarning: Possible clipped samples in output.\n",
      "  warnings.warn(\"Possible clipped samples in output.\")\n"
     ]
    },
    {
     "name": "stdout",
     "output_type": "stream",
     "text": [
      "🔍 Downloading: Accept Midnight Mover\n",
      "🎼 Converting and normalizing: Accept Midnight Mover     \n",
      "📏 Original LUFS: -17.74\n",
      "✅ LUFS-normalized WAV saved: lufs_audio\\Accept Midnight Mover.wav\n",
      "⚠️ Metadata tagging failed: 'Accept Midnight Mover' not a Frame instance\n"
     ]
    },
    {
     "name": "stderr",
     "output_type": "stream",
     "text": [
      "c:\\Users\\PX\\anaconda3\\envs\\yt_autotune\\lib\\site-packages\\pyloudnorm\\normalize.py:62: UserWarning: Possible clipped samples in output.\n",
      "  warnings.warn(\"Possible clipped samples in output.\")\n"
     ]
    },
    {
     "name": "stdout",
     "output_type": "stream",
     "text": [
      "🔍 Downloading: Warlock All We Are\n",
      "🎼 Converting and normalizing: Warlock All We Are        \n"
     ]
    }
   ],
   "source": [
    "import os\n",
    "import yt_dlp\n",
    "import numpy as np\n",
    "import soundfile as sf\n",
    "import pyloudnorm as pyln\n",
    "from openpyxl import load_workbook\n",
    "from pydub import AudioSegment\n",
    "from mutagen.wave import WAVE\n",
    "\n",
    "# === CONFIG ===\n",
    "EXPORT_FOLDER = \"procuced_wav_files\"\n",
    "TARGET_LUFS = -14.0\n",
    "os.makedirs(EXPORT_FOLDER, exist_ok=True)\n",
    "\n",
    "# Load song titles\n",
    "def load_song_titles(xlsx_path):\n",
    "    wb = load_workbook(xlsx_path)\n",
    "    ws = wb.active\n",
    "    return [row[0].value for row in ws.iter_rows(min_row=2) if row[0].value]\n",
    "\n",
    "# Download highest quality audio\n",
    "def download_best_audio(song_title):\n",
    "    ydl_opts = {\n",
    "        'format': 'bestaudio/best',\n",
    "        'quiet': True,\n",
    "        'default_search': 'ytsearch',\n",
    "        'outtmpl': f'{EXPORT_FOLDER}/{song_title}.%(ext)s',\n",
    "    }\n",
    "    with yt_dlp.YoutubeDL(ydl_opts) as ydl:\n",
    "        print(f\"🔍 Downloading: {song_title}\")\n",
    "        try:\n",
    "            ydl.download([song_title])\n",
    "        except Exception as e:\n",
    "            print(f\"❌ Failed to download '{song_title}': {e}\")\n",
    "\n",
    "# Convert to WAV and apply LUFS normalization\n",
    "def convert_to_lufs_wav(song_title):\n",
    "    raw_path = None\n",
    "    for ext in [\"webm\", \"m4a\", \"opus\", \"mp3\"]:\n",
    "        candidate = os.path.join(EXPORT_FOLDER, f\"{song_title}.{ext}\")\n",
    "        if os.path.exists(candidate):\n",
    "            raw_path = candidate\n",
    "            break\n",
    "\n",
    "    if not raw_path:\n",
    "        print(f\"❌ No downloaded audio found for: {song_title}\")\n",
    "        return\n",
    "\n",
    "    print(f\"🎼 Converting and normalizing: {song_title}\")\n",
    "    audio = AudioSegment.from_file(raw_path)\n",
    "    wav_temp_path = os.path.join(EXPORT_FOLDER, f\"{song_title}_temp.wav\")\n",
    "    audio.export(wav_temp_path, format=\"wav\")\n",
    "\n",
    "    # Load raw WAV into numpy\n",
    "    y, sr = sf.read(wav_temp_path)\n",
    "    if len(y.shape) > 1:  # stereo to mono\n",
    "        y = y.mean(axis=1)\n",
    "\n",
    "    # Measure loudness\n",
    "    meter = pyln.Meter(sr)\n",
    "    loudness = meter.integrated_loudness(y)\n",
    "    print(f\"📏 Original LUFS: {loudness:.2f}\")\n",
    "\n",
    "    # Normalize\n",
    "    y_normalized = pyln.normalize.loudness(y, loudness, TARGET_LUFS)\n",
    "\n",
    "    # Export normalized audio\n",
    "    final_wav_path = os.path.join(EXPORT_FOLDER, f\"{song_title}.wav\")\n",
    "    sf.write(final_wav_path, y_normalized, sr)\n",
    "    os.remove(wav_temp_path)\n",
    "    os.remove(raw_path)\n",
    "    print(f\"✅ LUFS-normalized WAV saved: {final_wav_path}\")\n",
    "\n",
    "    # Optional metadata\n",
    "    add_metadata(final_wav_path, song_title)\n",
    "\n",
    "# Add metadata to WAV\n",
    "def add_metadata(filepath, song_title):\n",
    "    artist = \"Unknown Artist\"\n",
    "    if \" - \" in song_title:\n",
    "        artist, song_title = song_title.split(\" - \", 1)\n",
    "\n",
    "    try:\n",
    "        audio = WAVE(filepath)\n",
    "        audio[\"title\"] = song_title\n",
    "        audio[\"artist\"] = artist\n",
    "        audio.save()\n",
    "        print(f\"🏷️ Metadata tagged: {song_title} by {artist}\")\n",
    "    except Exception as e:\n",
    "        print(f\"⚠️ Metadata tagging failed: {e}\")\n",
    "\n",
    "# Main\n",
    "if __name__ == \"__main__\":\n",
    "    titles = load_song_titles(\"songs.xlsx\")\n",
    "    for title in titles:\n",
    "        download_best_audio(title)\n",
    "        convert_to_lufs_wav(title)\n"
   ]
  }
 ],
 "metadata": {
  "kernelspec": {
   "display_name": "yt_autotune",
   "language": "python",
   "name": "python3"
  },
  "language_info": {
   "codemirror_mode": {
    "name": "ipython",
    "version": 3
   },
   "file_extension": ".py",
   "mimetype": "text/x-python",
   "name": "python",
   "nbconvert_exporter": "python",
   "pygments_lexer": "ipython3",
   "version": "3.10.16"
  }
 },
 "nbformat": 4,
 "nbformat_minor": 2
}
